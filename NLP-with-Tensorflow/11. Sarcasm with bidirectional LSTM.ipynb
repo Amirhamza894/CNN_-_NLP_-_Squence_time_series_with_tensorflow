{
  "nbformat": 4,
  "nbformat_minor": 0,
  "metadata": {
    "accelerator": "GPU",
    "colab": {
      "name": "Course 3 - Week 3 - Lesson 2.ipynb",
      "provenance": [],
      "collapsed_sections": []
    },
    "kernelspec": {
      "display_name": "Python 3",
      "language": "python",
      "name": "python3"
    },
    "language_info": {
      "codemirror_mode": {
        "name": "ipython",
        "version": 3
      },
      "file_extension": ".py",
      "mimetype": "text/x-python",
      "name": "python",
      "nbconvert_exporter": "python",
      "pygments_lexer": "ipython3",
      "version": "3.7.6"
    }
  },
  "cells": [
    {
      "cell_type": "code",
      "metadata": {
        "id": "zX4Kg8DUTKWO"
      },
      "source": [
        "#@title Licensed under the Apache License, Version 2.0 (the \"License\");\n",
        "# you may not use this file except in compliance with the License.\n",
        "# You may obtain a copy of the License at\n",
        "#\n",
        "# https://www.apache.org/licenses/LICENSE-2.0\n",
        "#\n",
        "# Unless required by applicable law or agreed to in writing, software\n",
        "# distributed under the License is distributed on an \"AS IS\" BASIS,\n",
        "# WITHOUT WARRANTIES OR CONDITIONS OF ANY KIND, either express or implied.\n",
        "# See the License for the specific language governing permissions and\n",
        "# limitations under the License."
      ],
      "execution_count": null,
      "outputs": []
    },
    {
      "cell_type": "markdown",
      "metadata": {
        "id": "nuBdPcblTP-q"
      },
      "source": [
        "<a href=\"https://colab.research.google.com/github/lmoroney/dlaicourse/blob/master/TensorFlow%20In%20Practice/Course%203%20-%20NLP/Course%203%20-%20Week%203%20-%20Lesson%202.ipynb\" target=\"_parent\"><img src=\"https://colab.research.google.com/assets/colab-badge.svg\" alt=\"Open In Colab\"/></a>"
      ]
    },
    {
      "cell_type": "code",
      "metadata": {
        "colab": {
          "base_uri": "https://localhost:8080/"
        },
        "id": "jGwXGIXvFhXW",
        "outputId": "e233705f-46f0-4c2c-8131-573ddcbe70ca"
      },
      "source": [
        "import numpy as np\n",
        "\n",
        "import json\n",
        "import tensorflow as tf\n",
        "\n",
        "from tensorflow.keras.preprocessing.text import Tokenizer\n",
        "from tensorflow.keras.preprocessing.sequence import pad_sequences\n",
        "\n",
        "!wget --no-check-certificate \\\n",
        "    https://storage.googleapis.com/laurencemoroney-blog.appspot.com/sarcasm.json \\\n",
        "    -O /tmp/sarcasm.json\n",
        "\n",
        "vocab_size = 1000\n",
        "embedding_dim = 16\n",
        "max_length = 120\n",
        "trunc_type='post'\n",
        "padding_type='post'\n",
        "oov_tok = \"<OOV>\"\n",
        "training_size = 20000\n",
        "\n",
        "\n",
        "with open(\"/tmp/sarcasm.json\", 'r') as f:\n",
        "    datastore = json.load(f)\n",
        "\n",
        "\n",
        "sentences = []\n",
        "labels = []\n",
        "urls = []\n",
        "for item in datastore:\n",
        "    sentences.append(item['headline'])\n",
        "    labels.append(item['is_sarcastic'])\n",
        "\n",
        "training_sentences = sentences[0:training_size]\n",
        "testing_sentences = sentences[training_size:]\n",
        "training_labels = labels[0:training_size]\n",
        "testing_labels = labels[training_size:]\n",
        "\n",
        "tokenizer = Tokenizer(num_words=vocab_size, oov_token=oov_tok)\n",
        "tokenizer.fit_on_texts(training_sentences)\n",
        "\n",
        "word_index = tokenizer.word_index\n",
        "\n",
        "training_sequences = tokenizer.texts_to_sequences(training_sentences)\n",
        "training_padded = pad_sequences(training_sequences, maxlen=max_length, padding=padding_type, truncating=trunc_type)\n",
        "\n",
        "testing_sequences = tokenizer.texts_to_sequences(testing_sentences)\n",
        "testing_padded = pad_sequences(testing_sequences, maxlen=max_length, padding=padding_type, truncating=trunc_type)\n",
        "\n",
        "model = tf.keras.Sequential([\n",
        "    tf.keras.layers.Embedding(vocab_size, embedding_dim, input_length=max_length),\n",
        "    tf.keras.layers.Bidirectional(tf.keras.layers.LSTM(32)),\n",
        "    tf.keras.layers.Dense(24, activation='relu'),\n",
        "    tf.keras.layers.Dense(1, activation='sigmoid')\n",
        "])\n",
        "model.compile(loss='binary_crossentropy',optimizer='adam',metrics=['accuracy'])\n",
        "model.summary()\n",
        "\n",
        "num_epochs = 50\n",
        "training_padded = np.array(training_padded)\n",
        "training_labels = np.array(training_labels)\n",
        "testing_padded = np.array(testing_padded)\n",
        "testing_labels = np.array(testing_labels)\n",
        "history = model.fit(training_padded, training_labels, epochs=num_epochs, validation_data=(testing_padded, testing_labels), verbose=1)\n"
      ],
      "execution_count": 1,
      "outputs": [
        {
          "output_type": "stream",
          "text": [
            "--2021-05-21 19:01:19--  https://storage.googleapis.com/laurencemoroney-blog.appspot.com/sarcasm.json\n",
            "Resolving storage.googleapis.com (storage.googleapis.com)... 142.250.141.128, 2607:f8b0:4023:c0b::80\n",
            "Connecting to storage.googleapis.com (storage.googleapis.com)|142.250.141.128|:443... connected.\n",
            "HTTP request sent, awaiting response... 200 OK\n",
            "Length: 5643545 (5.4M) [application/json]\n",
            "Saving to: ‘/tmp/sarcasm.json’\n",
            "\n",
            "\r/tmp/sarcasm.json     0%[                    ]       0  --.-KB/s               \r/tmp/sarcasm.json   100%[===================>]   5.38M  --.-KB/s    in 0.02s   \n",
            "\n",
            "2021-05-21 19:01:19 (258 MB/s) - ‘/tmp/sarcasm.json’ saved [5643545/5643545]\n",
            "\n",
            "Model: \"sequential\"\n",
            "_________________________________________________________________\n",
            "Layer (type)                 Output Shape              Param #   \n",
            "=================================================================\n",
            "embedding (Embedding)        (None, 120, 16)           16000     \n",
            "_________________________________________________________________\n",
            "bidirectional (Bidirectional (None, 64)                12544     \n",
            "_________________________________________________________________\n",
            "dense (Dense)                (None, 24)                1560      \n",
            "_________________________________________________________________\n",
            "dense_1 (Dense)              (None, 1)                 25        \n",
            "=================================================================\n",
            "Total params: 30,129\n",
            "Trainable params: 30,129\n",
            "Non-trainable params: 0\n",
            "_________________________________________________________________\n",
            "Epoch 1/50\n",
            "625/625 [==============================] - 41s 13ms/step - loss: 0.5551 - accuracy: 0.6919 - val_loss: 0.3922 - val_accuracy: 0.8149\n",
            "Epoch 2/50\n",
            "625/625 [==============================] - 7s 12ms/step - loss: 0.3454 - accuracy: 0.8411 - val_loss: 0.3726 - val_accuracy: 0.8320\n",
            "Epoch 3/50\n",
            "625/625 [==============================] - 7s 12ms/step - loss: 0.3137 - accuracy: 0.8587 - val_loss: 0.3703 - val_accuracy: 0.8350\n",
            "Epoch 4/50\n",
            "625/625 [==============================] - 7s 12ms/step - loss: 0.3035 - accuracy: 0.8671 - val_loss: 0.3733 - val_accuracy: 0.8313\n",
            "Epoch 5/50\n",
            "625/625 [==============================] - 7s 12ms/step - loss: 0.2851 - accuracy: 0.8754 - val_loss: 0.3735 - val_accuracy: 0.8325\n",
            "Epoch 6/50\n",
            "625/625 [==============================] - 7s 12ms/step - loss: 0.2844 - accuracy: 0.8773 - val_loss: 0.3928 - val_accuracy: 0.8278\n",
            "Epoch 7/50\n",
            "625/625 [==============================] - 7s 12ms/step - loss: 0.2659 - accuracy: 0.8863 - val_loss: 0.3872 - val_accuracy: 0.8274\n",
            "Epoch 8/50\n",
            "625/625 [==============================] - 7s 12ms/step - loss: 0.2665 - accuracy: 0.8846 - val_loss: 0.4025 - val_accuracy: 0.8275\n",
            "Epoch 9/50\n",
            "625/625 [==============================] - 7s 12ms/step - loss: 0.2549 - accuracy: 0.8931 - val_loss: 0.3985 - val_accuracy: 0.8265\n",
            "Epoch 10/50\n",
            "625/625 [==============================] - 7s 12ms/step - loss: 0.2489 - accuracy: 0.8971 - val_loss: 0.4136 - val_accuracy: 0.8274\n",
            "Epoch 11/50\n",
            "625/625 [==============================] - 7s 12ms/step - loss: 0.2441 - accuracy: 0.8985 - val_loss: 0.4126 - val_accuracy: 0.8259\n",
            "Epoch 12/50\n",
            "625/625 [==============================] - 7s 12ms/step - loss: 0.2433 - accuracy: 0.8942 - val_loss: 0.4092 - val_accuracy: 0.8198\n",
            "Epoch 13/50\n",
            "625/625 [==============================] - 7s 12ms/step - loss: 0.2326 - accuracy: 0.9037 - val_loss: 0.4287 - val_accuracy: 0.8240\n",
            "Epoch 14/50\n",
            "625/625 [==============================] - 7s 12ms/step - loss: 0.2181 - accuracy: 0.9097 - val_loss: 0.4476 - val_accuracy: 0.8202\n",
            "Epoch 15/50\n",
            "625/625 [==============================] - 7s 12ms/step - loss: 0.2205 - accuracy: 0.9114 - val_loss: 0.4583 - val_accuracy: 0.8205\n",
            "Epoch 16/50\n",
            "625/625 [==============================] - 7s 12ms/step - loss: 0.2006 - accuracy: 0.9202 - val_loss: 0.5167 - val_accuracy: 0.8165\n",
            "Epoch 17/50\n",
            "625/625 [==============================] - 7s 12ms/step - loss: 0.1996 - accuracy: 0.9176 - val_loss: 0.4932 - val_accuracy: 0.8207\n",
            "Epoch 18/50\n",
            "625/625 [==============================] - 7s 12ms/step - loss: 0.1892 - accuracy: 0.9255 - val_loss: 0.5281 - val_accuracy: 0.8150\n",
            "Epoch 19/50\n",
            "625/625 [==============================] - 7s 12ms/step - loss: 0.1869 - accuracy: 0.9239 - val_loss: 0.5708 - val_accuracy: 0.8156\n",
            "Epoch 20/50\n",
            "625/625 [==============================] - 7s 12ms/step - loss: 0.1722 - accuracy: 0.9318 - val_loss: 0.5542 - val_accuracy: 0.8204\n",
            "Epoch 21/50\n",
            "625/625 [==============================] - 7s 12ms/step - loss: 0.1739 - accuracy: 0.9321 - val_loss: 0.5490 - val_accuracy: 0.8150\n",
            "Epoch 22/50\n",
            "625/625 [==============================] - 7s 12ms/step - loss: 0.1632 - accuracy: 0.9355 - val_loss: 0.5766 - val_accuracy: 0.8144\n",
            "Epoch 23/50\n",
            "625/625 [==============================] - 7s 12ms/step - loss: 0.1658 - accuracy: 0.9351 - val_loss: 0.6229 - val_accuracy: 0.8150\n",
            "Epoch 24/50\n",
            "625/625 [==============================] - 7s 12ms/step - loss: 0.1545 - accuracy: 0.9392 - val_loss: 0.6358 - val_accuracy: 0.8114\n",
            "Epoch 25/50\n",
            "625/625 [==============================] - 7s 12ms/step - loss: 0.1493 - accuracy: 0.9416 - val_loss: 0.6840 - val_accuracy: 0.8146\n",
            "Epoch 26/50\n",
            "625/625 [==============================] - 7s 12ms/step - loss: 0.1426 - accuracy: 0.9446 - val_loss: 0.7355 - val_accuracy: 0.8122\n",
            "Epoch 27/50\n",
            "625/625 [==============================] - 7s 12ms/step - loss: 0.1332 - accuracy: 0.9480 - val_loss: 0.7472 - val_accuracy: 0.8091\n",
            "Epoch 28/50\n",
            "625/625 [==============================] - 7s 12ms/step - loss: 0.1277 - accuracy: 0.9496 - val_loss: 0.7754 - val_accuracy: 0.8049\n",
            "Epoch 29/50\n",
            "625/625 [==============================] - 8s 12ms/step - loss: 0.1274 - accuracy: 0.9511 - val_loss: 0.7617 - val_accuracy: 0.8028\n",
            "Epoch 30/50\n",
            "625/625 [==============================] - 7s 12ms/step - loss: 0.1125 - accuracy: 0.9547 - val_loss: 0.8134 - val_accuracy: 0.8030\n",
            "Epoch 31/50\n",
            "625/625 [==============================] - 7s 12ms/step - loss: 0.1079 - accuracy: 0.9580 - val_loss: 0.8268 - val_accuracy: 0.8030\n",
            "Epoch 32/50\n",
            "625/625 [==============================] - 7s 12ms/step - loss: 0.1108 - accuracy: 0.9566 - val_loss: 0.9013 - val_accuracy: 0.8074\n",
            "Epoch 33/50\n",
            "625/625 [==============================] - 7s 12ms/step - loss: 0.1044 - accuracy: 0.9585 - val_loss: 0.9044 - val_accuracy: 0.8025\n",
            "Epoch 34/50\n",
            "625/625 [==============================] - 7s 12ms/step - loss: 0.0939 - accuracy: 0.9628 - val_loss: 0.9691 - val_accuracy: 0.8056\n",
            "Epoch 35/50\n",
            "625/625 [==============================] - 7s 12ms/step - loss: 0.0909 - accuracy: 0.9634 - val_loss: 1.0930 - val_accuracy: 0.8001\n",
            "Epoch 36/50\n",
            "625/625 [==============================] - 7s 12ms/step - loss: 0.0942 - accuracy: 0.9633 - val_loss: 1.1151 - val_accuracy: 0.8035\n",
            "Epoch 37/50\n",
            "625/625 [==============================] - 7s 12ms/step - loss: 0.0809 - accuracy: 0.9676 - val_loss: 1.0258 - val_accuracy: 0.8050\n",
            "Epoch 38/50\n",
            "625/625 [==============================] - 7s 12ms/step - loss: 0.0854 - accuracy: 0.9647 - val_loss: 1.2280 - val_accuracy: 0.7962\n",
            "Epoch 39/50\n",
            "625/625 [==============================] - 7s 12ms/step - loss: 0.0733 - accuracy: 0.9714 - val_loss: 1.2451 - val_accuracy: 0.7965\n",
            "Epoch 40/50\n",
            "625/625 [==============================] - 7s 12ms/step - loss: 0.0744 - accuracy: 0.9711 - val_loss: 1.2263 - val_accuracy: 0.7989\n",
            "Epoch 41/50\n",
            "625/625 [==============================] - 7s 12ms/step - loss: 0.0698 - accuracy: 0.9719 - val_loss: 1.2919 - val_accuracy: 0.7946\n",
            "Epoch 42/50\n",
            "625/625 [==============================] - 7s 12ms/step - loss: 0.0753 - accuracy: 0.9710 - val_loss: 1.2537 - val_accuracy: 0.7970\n",
            "Epoch 43/50\n",
            "625/625 [==============================] - 7s 12ms/step - loss: 0.0607 - accuracy: 0.9754 - val_loss: 1.4042 - val_accuracy: 0.7985\n",
            "Epoch 44/50\n",
            "625/625 [==============================] - 7s 12ms/step - loss: 0.0614 - accuracy: 0.9748 - val_loss: 1.5094 - val_accuracy: 0.7970\n",
            "Epoch 45/50\n",
            "625/625 [==============================] - 7s 12ms/step - loss: 0.0575 - accuracy: 0.9780 - val_loss: 1.5562 - val_accuracy: 0.7952\n",
            "Epoch 46/50\n",
            "625/625 [==============================] - 7s 12ms/step - loss: 0.0545 - accuracy: 0.9787 - val_loss: 1.5183 - val_accuracy: 0.7900\n",
            "Epoch 47/50\n",
            "625/625 [==============================] - 7s 12ms/step - loss: 0.0561 - accuracy: 0.9767 - val_loss: 1.5072 - val_accuracy: 0.7968\n",
            "Epoch 48/50\n",
            "625/625 [==============================] - 7s 12ms/step - loss: 0.0613 - accuracy: 0.9750 - val_loss: 1.5977 - val_accuracy: 0.7991\n",
            "Epoch 49/50\n",
            "625/625 [==============================] - 7s 12ms/step - loss: 0.0592 - accuracy: 0.9765 - val_loss: 1.6848 - val_accuracy: 0.7927\n",
            "Epoch 50/50\n",
            "625/625 [==============================] - 7s 12ms/step - loss: 0.0466 - accuracy: 0.9807 - val_loss: 1.7188 - val_accuracy: 0.7903\n"
          ],
          "name": "stdout"
        }
      ]
    },
    {
      "cell_type": "code",
      "metadata": {
        "colab": {
          "base_uri": "https://localhost:8080/",
          "height": 541
        },
        "id": "g9DC6dmLF8DC",
        "outputId": "6124168b-d670-4318-b4cb-c361bfee8109"
      },
      "source": [
        "import matplotlib.pyplot as plt\n",
        "\n",
        "\n",
        "def plot_graphs(history, string):\n",
        "  plt.plot(history.history[string])\n",
        "  plt.plot(history.history['val_'+string])\n",
        "  plt.xlabel(\"Epochs\")\n",
        "  plt.ylabel(string)\n",
        "  plt.legend([string, 'val_'+string])\n",
        "  plt.show()\n",
        "\n",
        "plot_graphs(history, 'accuracy')\n",
        "plot_graphs(history, 'loss')"
      ],
      "execution_count": 2,
      "outputs": [
        {
          "output_type": "display_data",
          "data": {
            "image/png": "[encoded data removed]",
            "text/plain": [
              "<Figure size 432x288 with 1 Axes>"
            ]
          },
          "metadata": {
            "tags": [],
            "needs_background": "light"
          }
        },
        {
          "output_type": "display_data",
          "data": {
            "image/png": "[encoded data removed]",
            "text/plain": [
              "<Figure size 432x288 with 1 Axes>"
            ]
          },
          "metadata": {
            "tags": [],
            "needs_background": "light"
          }
        }
      ]
    },
    {
      "cell_type": "code",
      "metadata": {
        "id": "7ZEZIUppGhdi"
      },
      "source": [
        "model.save(\"test.h5\")"
      ],
      "execution_count": null,
      "outputs": []
    }
  ]
}