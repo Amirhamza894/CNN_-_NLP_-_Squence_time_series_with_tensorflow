{
  "nbformat": 4,
  "nbformat_minor": 0,
  "metadata": {
    "colab": {
      "name": "Technique to avoid overfitting.ipynb",
      "provenance": []
    },
    "kernelspec": {
      "name": "python3",
      "display_name": "Python 3"
    },
    "language_info": {
      "name": "python"
    },
    "accelerator": "GPU"
  },
  "cells": [
    {
      "cell_type": "markdown",
      "metadata": {
        "id": "YddCCvuWBzxm"
      },
      "source": [
        "# Let's train the data without data augmentation than we will apply data augmentation to check overfitting"
      ]
    },
    {
      "cell_type": "markdown",
      "metadata": {
        "id": "9TLGMI1A7RLt"
      },
      "source": [
        "### Download the data"
      ]
    },
    {
      "cell_type": "code",
      "metadata": {
        "colab": {
          "base_uri": "https://localhost:8080/"
        },
        "id": "aXq59yZW65Z2",
        "outputId": "5b728d28-d043-4498-a992-5df026ce2ad1"
      },
      "source": [
        "!wget --no-check-certificate \\\n",
        "    https://storage.googleapis.com/mledu-datasets/cats_and_dogs_filtered.zip \\\n",
        "    -O /tmp/cats_and_dogs_filtered.zip"
      ],
      "execution_count": 1,
      "outputs": [
        {
          "output_type": "stream",
          "text": [
            "--2021-04-12 12:15:20--  https://storage.googleapis.com/mledu-datasets/cats_and_dogs_filtered.zip\n",
            "Resolving storage.googleapis.com (storage.googleapis.com)... 108.177.97.128, 108.177.125.128, 74.125.203.128, ...\n",
            "Connecting to storage.googleapis.com (storage.googleapis.com)|108.177.97.128|:443... connected.\n",
            "HTTP request sent, awaiting response... 200 OK\n",
            "Length: 68606236 (65M) [application/zip]\n",
            "Saving to: ‘/tmp/cats_and_dogs_filtered.zip’\n",
            "\n",
            "/tmp/cats_and_dogs_ 100%[===================>]  65.43M   193MB/s    in 0.3s    \n",
            "\n",
            "2021-04-12 12:15:21 (193 MB/s) - ‘/tmp/cats_and_dogs_filtered.zip’ saved [68606236/68606236]\n",
            "\n"
          ],
          "name": "stdout"
        }
      ]
    },
    {
      "cell_type": "markdown",
      "metadata": {
        "id": "WeNI_xXW7Qs1"
      },
      "source": [
        "### Import project libraries"
      ]
    },
    {
      "cell_type": "code",
      "metadata": {
        "id": "a7o5Uita7cCs"
      },
      "source": [
        "import os\n",
        "import zipfile\n",
        "import tensorflow as tf\n",
        "from tensorflow.keras.optimizers import RMSprop\n",
        "from tensorflow.keras.preprocessing.image import ImageDataGenerator"
      ],
      "execution_count": 2,
      "outputs": []
    },
    {
      "cell_type": "markdown",
      "metadata": {
        "id": "JJniBYgj7mkF"
      },
      "source": [
        "### Extract dataset"
      ]
    },
    {
      "cell_type": "code",
      "metadata": {
        "id": "irEMnZed7gt-"
      },
      "source": [
        "local_zip = '/tmp/cats_and_dogs_filtered.zip'\n",
        "zip_ref = zipfile.ZipFile(local_zip, 'r')\n",
        "zip_ref.extractall('/tmp')\n",
        "zip_ref.close()"
      ],
      "execution_count": 3,
      "outputs": []
    },
    {
      "cell_type": "markdown",
      "metadata": {
        "id": "LEjGX3Xn7w2s"
      },
      "source": [
        "### Splting data into train and validation"
      ]
    },
    {
      "cell_type": "code",
      "metadata": {
        "id": "tbUrudOr7p8d"
      },
      "source": [
        "base_dir = '/tmp/cats_and_dogs_filtered'\n",
        "train_dir = os.path.join(base_dir, 'train')\n",
        "validation_dir = os.path.join(base_dir, 'validation')"
      ],
      "execution_count": 4,
      "outputs": []
    },
    {
      "cell_type": "code",
      "metadata": {
        "id": "xPphHzVp8KSb"
      },
      "source": [
        "# Directory with our training cat pictures\n",
        "train_cats_dir = os.path.join(train_dir, 'cats')\n",
        "\n",
        "# Directory with our training dog pictures\n",
        "train_dogs_dir = os.path.join(train_dir, 'dogs')\n",
        "\n",
        "# Directory with our validation cat pictures\n",
        "validation_cats_dir = os.path.join(validation_dir, 'cats')\n",
        "\n",
        "# Directory with our validation dog pictures\n",
        "validation_dogs_dir = os.path.join(validation_dir, 'dogs')"
      ],
      "execution_count": 5,
      "outputs": []
    },
    {
      "cell_type": "markdown",
      "metadata": {
        "id": "2oRggKYU8OTs"
      },
      "source": [
        "### Build a model"
      ]
    },
    {
      "cell_type": "code",
      "metadata": {
        "id": "uSHOVKo08LUT"
      },
      "source": [
        "model = tf.keras.models.Sequential([\n",
        "    tf.keras.layers.Conv2D(32, (3,3), activation='relu', input_shape=(150, 150, 3)),\n",
        "    tf.keras.layers.MaxPooling2D(2, 2),\n",
        "    tf.keras.layers.Conv2D(64, (3,3), activation='relu'),\n",
        "    tf.keras.layers.MaxPooling2D(2,2),\n",
        "    tf.keras.layers.Conv2D(128, (3,3), activation='relu'),\n",
        "    tf.keras.layers.MaxPooling2D(2,2),\n",
        "    tf.keras.layers.Conv2D(128, (3,3), activation='relu'),\n",
        "    tf.keras.layers.MaxPooling2D(2,2),\n",
        "    tf.keras.layers.Flatten(),\n",
        "    tf.keras.layers.Dense(512, activation='relu'),\n",
        "    tf.keras.layers.Dense(1, activation='sigmoid')\n",
        "])"
      ],
      "execution_count": 6,
      "outputs": []
    },
    {
      "cell_type": "markdown",
      "metadata": {
        "id": "QVZ0aU8W8WVk"
      },
      "source": [
        "### Compiling the model"
      ]
    },
    {
      "cell_type": "code",
      "metadata": {
        "id": "Im7jI6ky8Qqs"
      },
      "source": [
        "model.compile(loss='binary_crossentropy',\n",
        "              optimizer=RMSprop(lr=1e-4),\n",
        "              metrics=['accuracy'])"
      ],
      "execution_count": 7,
      "outputs": []
    },
    {
      "cell_type": "markdown",
      "metadata": {
        "id": "DB6-5bj18ZOD"
      },
      "source": [
        "### Rescale the images with `ImageDataGenerator`"
      ]
    },
    {
      "cell_type": "code",
      "metadata": {
        "id": "lWOZMhId8hel"
      },
      "source": [
        "# All images will be rescaled by 1./255\n",
        "train_datagen = ImageDataGenerator(rescale=1./255)\n",
        "test_datagen = ImageDataGenerator(rescale=1./255)"
      ],
      "execution_count": 8,
      "outputs": []
    },
    {
      "cell_type": "markdown",
      "metadata": {
        "id": "JCuHb-m08mYt"
      },
      "source": [
        "### Auto generate image label with keras api"
      ]
    },
    {
      "cell_type": "code",
      "metadata": {
        "colab": {
          "base_uri": "https://localhost:8080/"
        },
        "id": "wB3Aa9kt8kat",
        "outputId": "5ec50a99-2a6a-4007-85c3-f05522df534d"
      },
      "source": [
        "# Flow training images in batches of 20 using train_datagen generator\n",
        "train_generator = train_datagen.flow_from_directory(\n",
        "        train_dir,  # This is the source directory for training images\n",
        "        target_size=(150, 150),  # All images will be resized to 150x150\n",
        "        batch_size=20,\n",
        "        # Since we use binary_crossentropy loss, we need binary labels\n",
        "        class_mode='binary')"
      ],
      "execution_count": 9,
      "outputs": [
        {
          "output_type": "stream",
          "text": [
            "Found 2000 images belonging to 2 classes.\n"
          ],
          "name": "stdout"
        }
      ]
    },
    {
      "cell_type": "code",
      "metadata": {
        "colab": {
          "base_uri": "https://localhost:8080/"
        },
        "id": "52B8sKdc8vkV",
        "outputId": "ef6ffa24-5622-4695-b7fc-c1bcac44b9dc"
      },
      "source": [
        "# Flow validation images in batches of 20 using test_datagen generator\n",
        "validation_generator = test_datagen.flow_from_directory(\n",
        "        validation_dir,\n",
        "        target_size=(150, 150),\n",
        "        batch_size=20,\n",
        "        class_mode='binary')"
      ],
      "execution_count": 10,
      "outputs": [
        {
          "output_type": "stream",
          "text": [
            "Found 1000 images belonging to 2 classes.\n"
          ],
          "name": "stdout"
        }
      ]
    },
    {
      "cell_type": "markdown",
      "metadata": {
        "id": "9F7BprOp81T8"
      },
      "source": [
        "### Train the model"
      ]
    },
    {
      "cell_type": "code",
      "metadata": {
        "colab": {
          "base_uri": "https://localhost:8080/"
        },
        "id": "eU8ZIKn38yw1",
        "outputId": "f52418dd-f894-41d0-cc9d-eebf1c383fb7"
      },
      "source": [
        "history = model.fit(\n",
        "      train_generator,\n",
        "      steps_per_epoch=100,  # 2000 images = batch_size * steps\n",
        "      epochs=20,\n",
        "      validation_data=validation_generator,\n",
        "      validation_steps=50,  # 1000 images = batch_size * steps\n",
        "      verbose=2)"
      ],
      "execution_count": 11,
      "outputs": [
        {
          "output_type": "stream",
          "text": [
            "Epoch 1/20\n",
            "100/100 - 13s - loss: 0.6896 - accuracy: 0.5305 - val_loss: 0.6876 - val_accuracy: 0.5000\n",
            "Epoch 2/20\n",
            "100/100 - 10s - loss: 0.6613 - accuracy: 0.5965 - val_loss: 0.6514 - val_accuracy: 0.6280\n",
            "Epoch 3/20\n",
            "100/100 - 10s - loss: 0.6150 - accuracy: 0.6675 - val_loss: 0.6091 - val_accuracy: 0.6840\n",
            "Epoch 4/20\n",
            "100/100 - 10s - loss: 0.5698 - accuracy: 0.7070 - val_loss: 0.5968 - val_accuracy: 0.6620\n",
            "Epoch 5/20\n",
            "100/100 - 10s - loss: 0.5467 - accuracy: 0.7175 - val_loss: 0.5660 - val_accuracy: 0.6880\n",
            "Epoch 6/20\n",
            "100/100 - 10s - loss: 0.5122 - accuracy: 0.7480 - val_loss: 0.5673 - val_accuracy: 0.7150\n",
            "Epoch 7/20\n",
            "100/100 - 10s - loss: 0.4852 - accuracy: 0.7585 - val_loss: 0.5402 - val_accuracy: 0.7360\n",
            "Epoch 8/20\n",
            "100/100 - 10s - loss: 0.4594 - accuracy: 0.7830 - val_loss: 0.5250 - val_accuracy: 0.7380\n",
            "Epoch 9/20\n",
            "100/100 - 10s - loss: 0.4365 - accuracy: 0.7905 - val_loss: 0.5190 - val_accuracy: 0.7450\n",
            "Epoch 10/20\n",
            "100/100 - 10s - loss: 0.4107 - accuracy: 0.8015 - val_loss: 0.5238 - val_accuracy: 0.7500\n",
            "Epoch 11/20\n",
            "100/100 - 10s - loss: 0.3840 - accuracy: 0.8260 - val_loss: 0.5600 - val_accuracy: 0.7290\n",
            "Epoch 12/20\n",
            "100/100 - 10s - loss: 0.3614 - accuracy: 0.8400 - val_loss: 0.5096 - val_accuracy: 0.7560\n",
            "Epoch 13/20\n",
            "100/100 - 10s - loss: 0.3400 - accuracy: 0.8590 - val_loss: 0.5845 - val_accuracy: 0.7340\n",
            "Epoch 14/20\n",
            "100/100 - 10s - loss: 0.3215 - accuracy: 0.8645 - val_loss: 0.5868 - val_accuracy: 0.7380\n",
            "Epoch 15/20\n",
            "100/100 - 10s - loss: 0.2952 - accuracy: 0.8770 - val_loss: 0.5993 - val_accuracy: 0.7270\n",
            "Epoch 16/20\n",
            "100/100 - 10s - loss: 0.2785 - accuracy: 0.8905 - val_loss: 0.5278 - val_accuracy: 0.7530\n",
            "Epoch 17/20\n",
            "100/100 - 10s - loss: 0.2520 - accuracy: 0.8935 - val_loss: 0.5424 - val_accuracy: 0.7600\n",
            "Epoch 18/20\n",
            "100/100 - 10s - loss: 0.2330 - accuracy: 0.9105 - val_loss: 0.5873 - val_accuracy: 0.7530\n",
            "Epoch 19/20\n",
            "100/100 - 10s - loss: 0.2173 - accuracy: 0.9140 - val_loss: 0.6354 - val_accuracy: 0.7330\n",
            "Epoch 20/20\n",
            "100/100 - 10s - loss: 0.1918 - accuracy: 0.9280 - val_loss: 0.6393 - val_accuracy: 0.7520\n"
          ],
          "name": "stdout"
        }
      ]
    },
    {
      "cell_type": "markdown",
      "metadata": {
        "id": "UmT8a6Md-0-9"
      },
      "source": [
        "### Let's Visualize the loss and accuracy score on both training and validation"
      ]
    },
    {
      "cell_type": "code",
      "metadata": {
        "colab": {
          "base_uri": "https://localhost:8080/",
          "height": 545
        },
        "id": "yB_v7iTv83n1",
        "outputId": "cdef79f5-a701-4d5e-9125-df5845149eaf"
      },
      "source": [
        "import matplotlib.pyplot as plt\n",
        "acc = history.history['accuracy']\n",
        "val_acc = history.history['val_accuracy']\n",
        "loss = history.history['loss']\n",
        "val_loss = history.history['val_loss']\n",
        "\n",
        "epochs = range(len(acc))\n",
        "\n",
        "plt.plot(epochs, acc, 'bo', label='Training accuracy')\n",
        "plt.plot(epochs, val_acc, 'b', label='Validation accuracy')\n",
        "plt.title('Training and validation accuracy')\n",
        "\n",
        "plt.figure()\n",
        "\n",
        "plt.plot(epochs, loss, 'bo', label='Training Loss')\n",
        "plt.plot(epochs, val_loss, 'b', label='Validation Loss')\n",
        "plt.title('Training and validation loss')\n",
        "plt.legend()\n",
        "\n",
        "plt.show()"
      ],
      "execution_count": 12,
      "outputs": [
        {
          "output_type": "display_data",
          "data": {
            "image/png": "[encoded data removed]",
            "text/plain": [
              "<Figure size 432x288 with 1 Axes>"
            ]
          },
          "metadata": {
            "tags": [],
            "needs_background": "light"
          }
        },
        {
          "output_type": "display_data",
          "data": {
            "image/png": "[encoded data removed]",
            "text/plain": [
              "<Figure size 432x288 with 1 Axes>"
            ]
          },
          "metadata": {
            "tags": [],
            "needs_background": "light"
          }
        }
      ]
    },
    {
      "cell_type": "markdown",
      "metadata": {
        "id": "RxyeM7I2_SCk"
      },
      "source": [
        "The Training Accuracy is close to 100%, and the validation accuracy is in the 70%-80% range. This is a great example of overfitting -- which in short means that it can do very well with images it has seen before, but not so well with images it hasn't. Let's see if we can do better to avoid overfitting -- and one simple method is to augment the images a bit. If you think about it, most pictures of a cat are very similar -- the ears are at the top, then the eyes, then the mouth etc. Things like the distance between the eyes and ears will always be quite similar too. \\\n",
        "Now take a look at the ImageGenerator. There are properties on it that you can use to augment the image. \n",
        "\n",
        "```\n",
        "# Updated to do image augmentation\n",
        "train_datagen = ImageDataGenerator(\n",
        "      rotation_range=40,\n",
        "      width_shift_range=0.2,\n",
        "      height_shift_range=0.2,\n",
        "      shear_range=0.2,\n",
        "      zoom_range=0.2,\n",
        "      horizontal_flip=True,\n",
        "      fill_mode='nearest')\n",
        "```"
      ]
    },
    {
      "cell_type": "markdown",
      "metadata": {
        "id": "fgRK90Jh_han"
      },
      "source": [
        "### Below cell will download extract normalize every thing we do earlier from downloading to compiling"
      ]
    },
    {
      "cell_type": "code",
      "metadata": {
        "colab": {
          "base_uri": "https://localhost:8080/"
        },
        "id": "-6kSYA-I_NeF",
        "outputId": "76c19591-08f6-473b-ec99-59f8a823299a"
      },
      "source": [
        "!wget --no-check-certificate \\\n",
        "    https://storage.googleapis.com/mledu-datasets/cats_and_dogs_filtered.zip \\\n",
        "    -O /tmp/cats_and_dogs_filtered.zip\n",
        "  \n",
        "import os\n",
        "import zipfile\n",
        "import tensorflow as tf\n",
        "from tensorflow.keras.optimizers import RMSprop\n",
        "from tensorflow.keras.preprocessing.image import ImageDataGenerator\n",
        "\n",
        "local_zip = '/tmp/cats_and_dogs_filtered.zip'\n",
        "zip_ref = zipfile.ZipFile(local_zip, 'r')\n",
        "zip_ref.extractall('/tmp')\n",
        "zip_ref.close()\n",
        "\n",
        "base_dir = '/tmp/cats_and_dogs_filtered'\n",
        "train_dir = os.path.join(base_dir, 'train')\n",
        "validation_dir = os.path.join(base_dir, 'validation')\n",
        "\n",
        "# Directory with our training cat pictures\n",
        "train_cats_dir = os.path.join(train_dir, 'cats')\n",
        "\n",
        "# Directory with our training dog pictures\n",
        "train_dogs_dir = os.path.join(train_dir, 'dogs')\n",
        "\n",
        "# Directory with our validation cat pictures\n",
        "validation_cats_dir = os.path.join(validation_dir, 'cats')\n",
        "\n",
        "# Directory with our validation dog pictures\n",
        "validation_dogs_dir = os.path.join(validation_dir, 'dogs')\n",
        "\n",
        "model = tf.keras.models.Sequential([\n",
        "    tf.keras.layers.Conv2D(32, (3,3), activation='relu', input_shape=(150, 150, 3)),\n",
        "    tf.keras.layers.MaxPooling2D(2, 2),\n",
        "    tf.keras.layers.Conv2D(64, (3,3), activation='relu'),\n",
        "    tf.keras.layers.MaxPooling2D(2,2),\n",
        "    tf.keras.layers.Conv2D(128, (3,3), activation='relu'),\n",
        "    tf.keras.layers.MaxPooling2D(2,2),\n",
        "    tf.keras.layers.Conv2D(128, (3,3), activation='relu'),\n",
        "    tf.keras.layers.MaxPooling2D(2,2),\n",
        "    tf.keras.layers.Flatten(),\n",
        "    tf.keras.layers.Dense(512, activation='relu'),\n",
        "    tf.keras.layers.Dense(1, activation='sigmoid')\n",
        "])\n",
        "\n",
        "model.compile(loss='binary_crossentropy',\n",
        "              optimizer=RMSprop(lr=1e-4),\n",
        "              metrics=['accuracy'])"
      ],
      "execution_count": 13,
      "outputs": [
        {
          "output_type": "stream",
          "text": [
            "--2021-04-12 12:18:53--  https://storage.googleapis.com/mledu-datasets/cats_and_dogs_filtered.zip\n",
            "Resolving storage.googleapis.com (storage.googleapis.com)... 64.233.189.128, 108.177.97.128, 108.177.125.128, ...\n",
            "Connecting to storage.googleapis.com (storage.googleapis.com)|64.233.189.128|:443... connected.\n",
            "HTTP request sent, awaiting response... 200 OK\n",
            "Length: 68606236 (65M) [application/zip]\n",
            "Saving to: ‘/tmp/cats_and_dogs_filtered.zip’\n",
            "\n",
            "/tmp/cats_and_dogs_ 100%[===================>]  65.43M   160MB/s    in 0.4s    \n",
            "\n",
            "2021-04-12 12:18:54 (160 MB/s) - ‘/tmp/cats_and_dogs_filtered.zip’ saved [68606236/68606236]\n",
            "\n"
          ],
          "name": "stdout"
        }
      ]
    },
    {
      "cell_type": "markdown",
      "metadata": {
        "id": "liyPkeII_xHE"
      },
      "source": [
        "### To Avoid over fitting let's try data augmentation"
      ]
    },
    {
      "cell_type": "code",
      "metadata": {
        "id": "0p9WP68B_rzN"
      },
      "source": [
        "train_datagen = ImageDataGenerator(\n",
        "      rescale=1./255,\n",
        "      rotation_range=40,\n",
        "      width_shift_range=0.2,\n",
        "      height_shift_range=0.2,\n",
        "      shear_range=0.2,\n",
        "      zoom_range=0.2,\n",
        "      horizontal_flip=True,\n",
        "      fill_mode='nearest')\n",
        "\n",
        "test_datagen = ImageDataGenerator(rescale=1./255)"
      ],
      "execution_count": 14,
      "outputs": []
    },
    {
      "cell_type": "markdown",
      "metadata": {
        "id": "TD_vbs30_8R8"
      },
      "source": [
        "### Apply on training and validation data"
      ]
    },
    {
      "cell_type": "code",
      "metadata": {
        "colab": {
          "base_uri": "https://localhost:8080/"
        },
        "id": "3jOu5Jqt_3aN",
        "outputId": "a19b7de0-1a18-40e9-a1c9-2bb8f0ad55dc"
      },
      "source": [
        "# Flow training images in batches of 20 using train_datagen generator\n",
        "train_generator = train_datagen.flow_from_directory(\n",
        "        train_dir,  # This is the source directory for training images\n",
        "        target_size=(150, 150),  # All images will be resized to 150x150\n",
        "        batch_size=20,\n",
        "        # Since we use binary_crossentropy loss, we need binary labels\n",
        "        class_mode='binary')\n",
        "\n",
        "# Flow validation images in batches of 20 using test_datagen generator\n",
        "validation_generator = test_datagen.flow_from_directory(\n",
        "        validation_dir,\n",
        "        target_size=(150, 150),\n",
        "        batch_size=20,\n",
        "        class_mode='binary')"
      ],
      "execution_count": 15,
      "outputs": [
        {
          "output_type": "stream",
          "text": [
            "Found 2000 images belonging to 2 classes.\n",
            "Found 1000 images belonging to 2 classes.\n"
          ],
          "name": "stdout"
        }
      ]
    },
    {
      "cell_type": "markdown",
      "metadata": {
        "id": "JBrRRfedAC3U"
      },
      "source": [
        "### Train the model"
      ]
    },
    {
      "cell_type": "code",
      "metadata": {
        "colab": {
          "base_uri": "https://localhost:8080/"
        },
        "id": "q666lEDXAAbl",
        "outputId": "fd0af3e8-9e7a-4c81-dd21-12e87711c1f4"
      },
      "source": [
        "history = model.fit(\n",
        "      train_generator,\n",
        "      steps_per_epoch=100,  # 2000 images = batch_size * steps\n",
        "      epochs=20,\n",
        "      validation_data=validation_generator,\n",
        "      validation_steps=50,  # 1000 images = batch_size * steps\n",
        "      verbose=2)"
      ],
      "execution_count": 16,
      "outputs": [
        {
          "output_type": "stream",
          "text": [
            "Epoch 1/20\n",
            "100/100 - 21s - loss: 0.6928 - accuracy: 0.5190 - val_loss: 0.6925 - val_accuracy: 0.5020\n",
            "Epoch 2/20\n",
            "100/100 - 20s - loss: 0.6794 - accuracy: 0.5815 - val_loss: 0.6604 - val_accuracy: 0.6320\n",
            "Epoch 3/20\n",
            "100/100 - 20s - loss: 0.6693 - accuracy: 0.5920 - val_loss: 0.6535 - val_accuracy: 0.5910\n",
            "Epoch 4/20\n",
            "100/100 - 20s - loss: 0.6575 - accuracy: 0.6035 - val_loss: 0.6190 - val_accuracy: 0.6810\n",
            "Epoch 5/20\n",
            "100/100 - 20s - loss: 0.6482 - accuracy: 0.6230 - val_loss: 0.6202 - val_accuracy: 0.6380\n",
            "Epoch 6/20\n",
            "100/100 - 20s - loss: 0.6213 - accuracy: 0.6530 - val_loss: 0.6082 - val_accuracy: 0.6670\n",
            "Epoch 7/20\n",
            "100/100 - 20s - loss: 0.6248 - accuracy: 0.6610 - val_loss: 0.5741 - val_accuracy: 0.7050\n",
            "Epoch 8/20\n",
            "100/100 - 20s - loss: 0.6075 - accuracy: 0.6690 - val_loss: 0.5670 - val_accuracy: 0.7060\n",
            "Epoch 9/20\n",
            "100/100 - 20s - loss: 0.6026 - accuracy: 0.6785 - val_loss: 0.5748 - val_accuracy: 0.6960\n",
            "Epoch 10/20\n",
            "100/100 - 20s - loss: 0.5811 - accuracy: 0.6845 - val_loss: 0.5282 - val_accuracy: 0.7370\n",
            "Epoch 11/20\n",
            "100/100 - 20s - loss: 0.5740 - accuracy: 0.7030 - val_loss: 0.5388 - val_accuracy: 0.7250\n",
            "Epoch 12/20\n",
            "100/100 - 20s - loss: 0.5778 - accuracy: 0.7005 - val_loss: 0.5232 - val_accuracy: 0.7320\n",
            "Epoch 13/20\n",
            "100/100 - 20s - loss: 0.5741 - accuracy: 0.6975 - val_loss: 0.5201 - val_accuracy: 0.7320\n",
            "Epoch 14/20\n",
            "100/100 - 20s - loss: 0.5606 - accuracy: 0.7055 - val_loss: 0.5307 - val_accuracy: 0.7230\n",
            "Epoch 15/20\n",
            "100/100 - 20s - loss: 0.5548 - accuracy: 0.7230 - val_loss: 0.5833 - val_accuracy: 0.6880\n",
            "Epoch 16/20\n",
            "100/100 - 20s - loss: 0.5594 - accuracy: 0.7035 - val_loss: 0.5160 - val_accuracy: 0.7340\n",
            "Epoch 17/20\n",
            "100/100 - 20s - loss: 0.5360 - accuracy: 0.7215 - val_loss: 0.5042 - val_accuracy: 0.7480\n",
            "Epoch 18/20\n",
            "100/100 - 20s - loss: 0.5538 - accuracy: 0.7185 - val_loss: 0.5029 - val_accuracy: 0.7380\n",
            "Epoch 19/20\n",
            "100/100 - 20s - loss: 0.5422 - accuracy: 0.7310 - val_loss: 0.4974 - val_accuracy: 0.7530\n",
            "Epoch 20/20\n",
            "100/100 - 20s - loss: 0.5339 - accuracy: 0.7340 - val_loss: 0.5059 - val_accuracy: 0.7450\n"
          ],
          "name": "stdout"
        }
      ]
    },
    {
      "cell_type": "markdown",
      "metadata": {
        "id": "A9ceT__JANB0"
      },
      "source": [
        "### Let's visualize loss and accuracy"
      ]
    },
    {
      "cell_type": "code",
      "metadata": {
        "colab": {
          "base_uri": "https://localhost:8080/",
          "height": 545
        },
        "id": "coz9pKSqAEtF",
        "outputId": "4dca9148-cb8d-4d13-806f-75b56ac0db47"
      },
      "source": [
        "import matplotlib.pyplot as plt\n",
        "acc = history.history['accuracy']\n",
        "val_acc = history.history['val_accuracy']\n",
        "loss = history.history['loss']\n",
        "val_loss = history.history['val_loss']\n",
        "\n",
        "epochs = range(len(acc))\n",
        "\n",
        "plt.plot(epochs, acc, 'bo', label='Training accuracy')\n",
        "plt.plot(epochs, val_acc, 'b', label='Validation accuracy')\n",
        "plt.title('Training and validation accuracy')\n",
        "\n",
        "plt.figure()\n",
        "\n",
        "plt.plot(epochs, loss, 'bo', label='Training Loss')\n",
        "plt.plot(epochs, val_loss, 'b', label='Validation Loss')\n",
        "plt.title('Training and validation loss')\n",
        "plt.legend()\n",
        "\n",
        "plt.show()"
      ],
      "execution_count": 17,
      "outputs": [
        {
          "output_type": "display_data",
          "data": {
            "image/png": "[encoded data removed]",
            "text/plain": [
              "<Figure size 432x288 with 1 Axes>"
            ]
          },
          "metadata": {
            "tags": [],
            "needs_background": "light"
          }
        },
        {
          "output_type": "display_data",
          "data": {
            "image/png": "[encoded data removed]",
            "text/plain": [
              "<Figure size 432x288 with 1 Axes>"
            ]
          },
          "metadata": {
            "tags": [],
            "needs_background": "light"
          }
        }
      ]
    },
    {
      "cell_type": "code",
      "metadata": {
        "colab": {
          "base_uri": "https://localhost:8080/"
        },
        "id": "o4KnsLlvAbKf",
        "outputId": "19146f12-a4ed-4507-df6a-5c5cca80d822"
      },
      "source": [
        "!wget --no-check-certificate \\\n",
        "    https://storage.googleapis.com/mledu-datasets/cats_and_dogs_filtered.zip \\\n",
        "    -O /tmp/cats_and_dogs_filtered.zip\n",
        "  \n",
        "import os\n",
        "import zipfile\n",
        "import tensorflow as tf\n",
        "from tensorflow.keras.optimizers import RMSprop\n",
        "from tensorflow.keras.preprocessing.image import ImageDataGenerator\n",
        "\n",
        "local_zip = '/tmp/cats_and_dogs_filtered.zip'\n",
        "zip_ref = zipfile.ZipFile(local_zip, 'r')\n",
        "zip_ref.extractall('/tmp')\n",
        "zip_ref.close()\n",
        "\n",
        "base_dir = '/tmp/cats_and_dogs_filtered'\n",
        "train_dir = os.path.join(base_dir, 'train')\n",
        "validation_dir = os.path.join(base_dir, 'validation')\n",
        "\n",
        "# Directory with our training cat pictures\n",
        "train_cats_dir = os.path.join(train_dir, 'cats')\n",
        "\n",
        "# Directory with our training dog pictures\n",
        "train_dogs_dir = os.path.join(train_dir, 'dogs')\n",
        "\n",
        "# Directory with our validation cat pictures\n",
        "validation_cats_dir = os.path.join(validation_dir, 'cats')\n",
        "\n",
        "# Directory with our validation dog pictures\n",
        "validation_dogs_dir = os.path.join(validation_dir, 'dogs')\n",
        "\n",
        "model = tf.keras.models.Sequential([\n",
        "    tf.keras.layers.Conv2D(32, (3,3), activation='relu', input_shape=(150, 150, 3)),\n",
        "    tf.keras.layers.MaxPooling2D(2, 2),\n",
        "    tf.keras.layers.Conv2D(64, (3,3), activation='relu'),\n",
        "    tf.keras.layers.MaxPooling2D(2,2),\n",
        "    tf.keras.layers.Conv2D(128, (3,3), activation='relu'),\n",
        "    tf.keras.layers.MaxPooling2D(2,2),\n",
        "    tf.keras.layers.Conv2D(128, (3,3), activation='relu'),\n",
        "    tf.keras.layers.MaxPooling2D(2,2),\n",
        "    tf.keras.layers.Dropout(0.5),\n",
        "    tf.keras.layers.Flatten(),\n",
        "    tf.keras.layers.Dense(512, activation='relu'),\n",
        "    tf.keras.layers.Dense(1, activation='sigmoid')\n",
        "])\n",
        "\n",
        "model.compile(loss='binary_crossentropy',\n",
        "              optimizer=RMSprop(lr=1e-4),\n",
        "              metrics=['accuracy'])\n",
        "\n",
        "# This code has changed. Now instead of the ImageGenerator just rescaling\n",
        "# the image, we also rotate and do other operations\n",
        "# Updated to do image augmentation\n",
        "train_datagen = ImageDataGenerator(\n",
        "      rescale=1./255,\n",
        "      rotation_range=40,\n",
        "      width_shift_range=0.2,\n",
        "      height_shift_range=0.2,\n",
        "      shear_range=0.2,\n",
        "      zoom_range=0.2,\n",
        "      horizontal_flip=True,\n",
        "      fill_mode='nearest')\n",
        "\n",
        "test_datagen = ImageDataGenerator(rescale=1./255)\n",
        "\n",
        "# Flow training images in batches of 20 using train_datagen generator\n",
        "train_generator = train_datagen.flow_from_directory(\n",
        "        train_dir,  # This is the source directory for training images\n",
        "        target_size=(150, 150),  # All images will be resized to 150x150\n",
        "        batch_size=20,\n",
        "        # Since we use binary_crossentropy loss, we need binary labels\n",
        "        class_mode='binary')\n",
        "\n",
        "# Flow validation images in batches of 20 using test_datagen generator\n",
        "validation_generator = test_datagen.flow_from_directory(\n",
        "        validation_dir,\n",
        "        target_size=(150, 150),\n",
        "        batch_size=20,\n",
        "        class_mode='binary')\n",
        "\n",
        "history = model.fit(\n",
        "      train_generator,\n",
        "      steps_per_epoch=100,  # 2000 images = batch_size * steps\n",
        "      epochs=100,\n",
        "      validation_data=validation_generator,\n",
        "      validation_steps=50,  # 1000 images = batch_size * steps\n",
        "      verbose=2)"
      ],
      "execution_count": 18,
      "outputs": [
        {
          "output_type": "stream",
          "text": [
            "--2021-04-12 12:25:40--  https://storage.googleapis.com/mledu-datasets/cats_and_dogs_filtered.zip\n",
            "Resolving storage.googleapis.com (storage.googleapis.com)... 74.125.204.128, 64.233.188.128, 64.233.189.128, ...\n",
            "Connecting to storage.googleapis.com (storage.googleapis.com)|74.125.204.128|:443... connected.\n",
            "HTTP request sent, awaiting response... 200 OK\n",
            "Length: 68606236 (65M) [application/zip]\n",
            "Saving to: ‘/tmp/cats_and_dogs_filtered.zip’\n",
            "\n",
            "/tmp/cats_and_dogs_ 100%[===================>]  65.43M   203MB/s    in 0.3s    \n",
            "\n",
            "2021-04-12 12:25:41 (203 MB/s) - ‘/tmp/cats_and_dogs_filtered.zip’ saved [68606236/68606236]\n",
            "\n",
            "Found 2000 images belonging to 2 classes.\n",
            "Found 1000 images belonging to 2 classes.\n",
            "Epoch 1/100\n",
            "100/100 - 22s - loss: 0.6945 - accuracy: 0.5165 - val_loss: 0.6881 - val_accuracy: 0.5540\n",
            "Epoch 2/100\n",
            "100/100 - 20s - loss: 0.6854 - accuracy: 0.5450 - val_loss: 0.6757 - val_accuracy: 0.5280\n",
            "Epoch 3/100\n",
            "100/100 - 20s - loss: 0.6772 - accuracy: 0.5690 - val_loss: 0.6516 - val_accuracy: 0.6400\n",
            "Epoch 4/100\n",
            "100/100 - 20s - loss: 0.6672 - accuracy: 0.5910 - val_loss: 0.6314 - val_accuracy: 0.6460\n",
            "Epoch 5/100\n",
            "100/100 - 20s - loss: 0.6526 - accuracy: 0.6200 - val_loss: 0.6209 - val_accuracy: 0.6600\n",
            "Epoch 6/100\n",
            "100/100 - 20s - loss: 0.6392 - accuracy: 0.6330 - val_loss: 0.6136 - val_accuracy: 0.6480\n",
            "Epoch 7/100\n",
            "100/100 - 20s - loss: 0.6294 - accuracy: 0.6375 - val_loss: 0.6497 - val_accuracy: 0.6000\n",
            "Epoch 8/100\n",
            "100/100 - 20s - loss: 0.6197 - accuracy: 0.6540 - val_loss: 0.5685 - val_accuracy: 0.6950\n",
            "Epoch 9/100\n",
            "100/100 - 20s - loss: 0.6170 - accuracy: 0.6535 - val_loss: 0.5784 - val_accuracy: 0.6840\n",
            "Epoch 10/100\n",
            "100/100 - 20s - loss: 0.5975 - accuracy: 0.6825 - val_loss: 0.5607 - val_accuracy: 0.7060\n",
            "Epoch 11/100\n",
            "100/100 - 20s - loss: 0.6041 - accuracy: 0.6600 - val_loss: 0.5538 - val_accuracy: 0.7070\n",
            "Epoch 12/100\n",
            "100/100 - 20s - loss: 0.5997 - accuracy: 0.6795 - val_loss: 0.5661 - val_accuracy: 0.6980\n",
            "Epoch 13/100\n",
            "100/100 - 20s - loss: 0.5787 - accuracy: 0.6995 - val_loss: 0.5987 - val_accuracy: 0.6530\n",
            "Epoch 14/100\n",
            "100/100 - 20s - loss: 0.5817 - accuracy: 0.6840 - val_loss: 0.5533 - val_accuracy: 0.7030\n",
            "Epoch 15/100\n",
            "100/100 - 20s - loss: 0.5762 - accuracy: 0.6975 - val_loss: 0.5353 - val_accuracy: 0.7210\n",
            "Epoch 16/100\n",
            "100/100 - 20s - loss: 0.5684 - accuracy: 0.7005 - val_loss: 0.6835 - val_accuracy: 0.6480\n",
            "Epoch 17/100\n",
            "100/100 - 20s - loss: 0.5731 - accuracy: 0.7045 - val_loss: 0.5284 - val_accuracy: 0.7190\n",
            "Epoch 18/100\n",
            "100/100 - 20s - loss: 0.5640 - accuracy: 0.7195 - val_loss: 0.5315 - val_accuracy: 0.7250\n",
            "Epoch 19/100\n",
            "100/100 - 20s - loss: 0.5692 - accuracy: 0.7090 - val_loss: 0.5535 - val_accuracy: 0.7070\n",
            "Epoch 20/100\n",
            "100/100 - 20s - loss: 0.5651 - accuracy: 0.7020 - val_loss: 0.5114 - val_accuracy: 0.7490\n",
            "Epoch 21/100\n",
            "100/100 - 20s - loss: 0.5514 - accuracy: 0.7145 - val_loss: 0.5195 - val_accuracy: 0.7350\n",
            "Epoch 22/100\n",
            "100/100 - 20s - loss: 0.5464 - accuracy: 0.7195 - val_loss: 0.5112 - val_accuracy: 0.7450\n",
            "Epoch 23/100\n",
            "100/100 - 20s - loss: 0.5455 - accuracy: 0.7255 - val_loss: 0.5012 - val_accuracy: 0.7450\n",
            "Epoch 24/100\n",
            "100/100 - 20s - loss: 0.5482 - accuracy: 0.7205 - val_loss: 0.5138 - val_accuracy: 0.7360\n",
            "Epoch 25/100\n",
            "100/100 - 20s - loss: 0.5480 - accuracy: 0.7255 - val_loss: 0.5334 - val_accuracy: 0.7220\n",
            "Epoch 26/100\n",
            "100/100 - 20s - loss: 0.5421 - accuracy: 0.7315 - val_loss: 0.5160 - val_accuracy: 0.7370\n",
            "Epoch 27/100\n",
            "100/100 - 20s - loss: 0.5320 - accuracy: 0.7315 - val_loss: 0.5054 - val_accuracy: 0.7530\n",
            "Epoch 28/100\n",
            "100/100 - 20s - loss: 0.5236 - accuracy: 0.7280 - val_loss: 0.4813 - val_accuracy: 0.7600\n",
            "Epoch 29/100\n",
            "100/100 - 20s - loss: 0.5365 - accuracy: 0.7330 - val_loss: 0.4869 - val_accuracy: 0.7510\n",
            "Epoch 30/100\n",
            "100/100 - 20s - loss: 0.5269 - accuracy: 0.7340 - val_loss: 0.6128 - val_accuracy: 0.6630\n",
            "Epoch 31/100\n",
            "100/100 - 20s - loss: 0.5114 - accuracy: 0.7500 - val_loss: 0.5136 - val_accuracy: 0.7420\n",
            "Epoch 32/100\n",
            "100/100 - 20s - loss: 0.5246 - accuracy: 0.7350 - val_loss: 0.4836 - val_accuracy: 0.7600\n",
            "Epoch 33/100\n",
            "100/100 - 20s - loss: 0.5148 - accuracy: 0.7465 - val_loss: 0.4850 - val_accuracy: 0.7650\n",
            "Epoch 34/100\n",
            "100/100 - 20s - loss: 0.5100 - accuracy: 0.7470 - val_loss: 0.5589 - val_accuracy: 0.7040\n",
            "Epoch 35/100\n",
            "100/100 - 20s - loss: 0.5038 - accuracy: 0.7520 - val_loss: 0.4710 - val_accuracy: 0.7700\n",
            "Epoch 36/100\n",
            "100/100 - 20s - loss: 0.5084 - accuracy: 0.7405 - val_loss: 0.5086 - val_accuracy: 0.7430\n",
            "Epoch 37/100\n",
            "100/100 - 20s - loss: 0.5044 - accuracy: 0.7505 - val_loss: 0.5627 - val_accuracy: 0.7190\n",
            "Epoch 38/100\n",
            "100/100 - 20s - loss: 0.4970 - accuracy: 0.7710 - val_loss: 0.4722 - val_accuracy: 0.7630\n",
            "Epoch 39/100\n",
            "100/100 - 20s - loss: 0.5037 - accuracy: 0.7530 - val_loss: 0.5552 - val_accuracy: 0.7330\n",
            "Epoch 40/100\n",
            "100/100 - 20s - loss: 0.4807 - accuracy: 0.7690 - val_loss: 0.5264 - val_accuracy: 0.7410\n",
            "Epoch 41/100\n",
            "100/100 - 20s - loss: 0.4954 - accuracy: 0.7610 - val_loss: 0.4872 - val_accuracy: 0.7640\n",
            "Epoch 42/100\n",
            "100/100 - 20s - loss: 0.4893 - accuracy: 0.7715 - val_loss: 0.4958 - val_accuracy: 0.7660\n",
            "Epoch 43/100\n",
            "100/100 - 20s - loss: 0.5073 - accuracy: 0.7510 - val_loss: 0.4548 - val_accuracy: 0.7890\n",
            "Epoch 44/100\n",
            "100/100 - 20s - loss: 0.4798 - accuracy: 0.7730 - val_loss: 0.4498 - val_accuracy: 0.7880\n",
            "Epoch 45/100\n",
            "100/100 - 20s - loss: 0.4894 - accuracy: 0.7525 - val_loss: 0.4571 - val_accuracy: 0.7820\n",
            "Epoch 46/100\n",
            "100/100 - 20s - loss: 0.4818 - accuracy: 0.7615 - val_loss: 0.4513 - val_accuracy: 0.7820\n",
            "Epoch 47/100\n",
            "100/100 - 20s - loss: 0.4932 - accuracy: 0.7545 - val_loss: 0.4357 - val_accuracy: 0.7970\n",
            "Epoch 48/100\n",
            "100/100 - 20s - loss: 0.4758 - accuracy: 0.7720 - val_loss: 0.4458 - val_accuracy: 0.7850\n",
            "Epoch 49/100\n",
            "100/100 - 20s - loss: 0.4698 - accuracy: 0.7730 - val_loss: 0.5773 - val_accuracy: 0.7200\n",
            "Epoch 50/100\n",
            "100/100 - 20s - loss: 0.4640 - accuracy: 0.7795 - val_loss: 0.4469 - val_accuracy: 0.7910\n",
            "Epoch 51/100\n",
            "100/100 - 20s - loss: 0.4711 - accuracy: 0.7730 - val_loss: 0.4446 - val_accuracy: 0.8010\n",
            "Epoch 52/100\n",
            "100/100 - 20s - loss: 0.4640 - accuracy: 0.7760 - val_loss: 0.5071 - val_accuracy: 0.7490\n",
            "Epoch 53/100\n",
            "100/100 - 20s - loss: 0.4677 - accuracy: 0.7830 - val_loss: 0.4421 - val_accuracy: 0.7980\n",
            "Epoch 54/100\n",
            "100/100 - 20s - loss: 0.4556 - accuracy: 0.7855 - val_loss: 0.4362 - val_accuracy: 0.7940\n",
            "Epoch 55/100\n",
            "100/100 - 20s - loss: 0.4685 - accuracy: 0.7805 - val_loss: 0.4365 - val_accuracy: 0.7960\n",
            "Epoch 56/100\n",
            "100/100 - 20s - loss: 0.4647 - accuracy: 0.7780 - val_loss: 0.4557 - val_accuracy: 0.7900\n",
            "Epoch 57/100\n",
            "100/100 - 20s - loss: 0.4608 - accuracy: 0.7975 - val_loss: 0.5379 - val_accuracy: 0.7540\n",
            "Epoch 58/100\n",
            "100/100 - 20s - loss: 0.4607 - accuracy: 0.7785 - val_loss: 0.4242 - val_accuracy: 0.7960\n",
            "Epoch 59/100\n",
            "100/100 - 20s - loss: 0.4455 - accuracy: 0.7955 - val_loss: 0.4371 - val_accuracy: 0.7930\n",
            "Epoch 60/100\n",
            "100/100 - 20s - loss: 0.4563 - accuracy: 0.7745 - val_loss: 0.4431 - val_accuracy: 0.8000\n",
            "Epoch 61/100\n",
            "100/100 - 20s - loss: 0.4455 - accuracy: 0.7885 - val_loss: 0.4662 - val_accuracy: 0.7790\n",
            "Epoch 62/100\n",
            "100/100 - 20s - loss: 0.4435 - accuracy: 0.8000 - val_loss: 0.4665 - val_accuracy: 0.7840\n",
            "Epoch 63/100\n",
            "100/100 - 20s - loss: 0.4551 - accuracy: 0.7800 - val_loss: 0.4460 - val_accuracy: 0.7880\n",
            "Epoch 64/100\n",
            "100/100 - 20s - loss: 0.4404 - accuracy: 0.8000 - val_loss: 0.4667 - val_accuracy: 0.7850\n",
            "Epoch 65/100\n",
            "100/100 - 20s - loss: 0.4673 - accuracy: 0.7820 - val_loss: 0.4175 - val_accuracy: 0.8100\n",
            "Epoch 66/100\n",
            "100/100 - 20s - loss: 0.4476 - accuracy: 0.7935 - val_loss: 0.4179 - val_accuracy: 0.8070\n",
            "Epoch 67/100\n",
            "100/100 - 20s - loss: 0.4435 - accuracy: 0.7935 - val_loss: 0.4660 - val_accuracy: 0.7800\n",
            "Epoch 68/100\n",
            "100/100 - 20s - loss: 0.4463 - accuracy: 0.7950 - val_loss: 0.4126 - val_accuracy: 0.8190\n",
            "Epoch 69/100\n",
            "100/100 - 20s - loss: 0.4436 - accuracy: 0.7840 - val_loss: 0.4246 - val_accuracy: 0.8040\n",
            "Epoch 70/100\n",
            "100/100 - 20s - loss: 0.4376 - accuracy: 0.7900 - val_loss: 0.4241 - val_accuracy: 0.8060\n",
            "Epoch 71/100\n",
            "100/100 - 20s - loss: 0.4389 - accuracy: 0.7890 - val_loss: 0.4127 - val_accuracy: 0.8140\n",
            "Epoch 72/100\n",
            "100/100 - 20s - loss: 0.4324 - accuracy: 0.8020 - val_loss: 0.4204 - val_accuracy: 0.8140\n",
            "Epoch 73/100\n",
            "100/100 - 20s - loss: 0.4334 - accuracy: 0.7995 - val_loss: 0.4135 - val_accuracy: 0.8150\n",
            "Epoch 74/100\n",
            "100/100 - 20s - loss: 0.4368 - accuracy: 0.7885 - val_loss: 0.6159 - val_accuracy: 0.7410\n",
            "Epoch 75/100\n",
            "100/100 - 20s - loss: 0.4241 - accuracy: 0.7990 - val_loss: 0.4275 - val_accuracy: 0.8020\n",
            "Epoch 76/100\n",
            "100/100 - 20s - loss: 0.4333 - accuracy: 0.7935 - val_loss: 0.4030 - val_accuracy: 0.8120\n",
            "Epoch 77/100\n",
            "100/100 - 20s - loss: 0.4239 - accuracy: 0.8040 - val_loss: 0.4305 - val_accuracy: 0.8060\n",
            "Epoch 78/100\n",
            "100/100 - 20s - loss: 0.4150 - accuracy: 0.8055 - val_loss: 0.4347 - val_accuracy: 0.7880\n",
            "Epoch 79/100\n",
            "100/100 - 20s - loss: 0.4231 - accuracy: 0.8025 - val_loss: 0.4375 - val_accuracy: 0.7980\n",
            "Epoch 80/100\n",
            "100/100 - 20s - loss: 0.4412 - accuracy: 0.7965 - val_loss: 0.4056 - val_accuracy: 0.8270\n",
            "Epoch 81/100\n",
            "100/100 - 20s - loss: 0.4239 - accuracy: 0.8010 - val_loss: 0.4572 - val_accuracy: 0.7800\n",
            "Epoch 82/100\n",
            "100/100 - 20s - loss: 0.4170 - accuracy: 0.8070 - val_loss: 0.4603 - val_accuracy: 0.7930\n",
            "Epoch 83/100\n",
            "100/100 - 20s - loss: 0.4034 - accuracy: 0.8235 - val_loss: 0.4143 - val_accuracy: 0.8160\n",
            "Epoch 84/100\n",
            "100/100 - 20s - loss: 0.4346 - accuracy: 0.7990 - val_loss: 0.4062 - val_accuracy: 0.8160\n",
            "Epoch 85/100\n",
            "100/100 - 20s - loss: 0.4122 - accuracy: 0.8120 - val_loss: 0.4321 - val_accuracy: 0.8150\n",
            "Epoch 86/100\n",
            "100/100 - 20s - loss: 0.4059 - accuracy: 0.8190 - val_loss: 0.4222 - val_accuracy: 0.8100\n",
            "Epoch 87/100\n",
            "100/100 - 20s - loss: 0.4049 - accuracy: 0.8320 - val_loss: 0.4183 - val_accuracy: 0.8070\n",
            "Epoch 88/100\n",
            "100/100 - 20s - loss: 0.4094 - accuracy: 0.8160 - val_loss: 0.4192 - val_accuracy: 0.8060\n",
            "Epoch 89/100\n",
            "100/100 - 20s - loss: 0.4025 - accuracy: 0.8240 - val_loss: 0.4144 - val_accuracy: 0.8010\n",
            "Epoch 90/100\n",
            "100/100 - 20s - loss: 0.4183 - accuracy: 0.8090 - val_loss: 0.3869 - val_accuracy: 0.8310\n",
            "Epoch 91/100\n",
            "100/100 - 20s - loss: 0.4138 - accuracy: 0.8035 - val_loss: 0.4951 - val_accuracy: 0.7670\n",
            "Epoch 92/100\n",
            "100/100 - 20s - loss: 0.4051 - accuracy: 0.8175 - val_loss: 0.4000 - val_accuracy: 0.8250\n",
            "Epoch 93/100\n",
            "100/100 - 20s - loss: 0.4061 - accuracy: 0.8120 - val_loss: 0.4136 - val_accuracy: 0.8130\n",
            "Epoch 94/100\n",
            "100/100 - 20s - loss: 0.3944 - accuracy: 0.8185 - val_loss: 0.4205 - val_accuracy: 0.8070\n",
            "Epoch 95/100\n",
            "100/100 - 20s - loss: 0.3988 - accuracy: 0.8170 - val_loss: 0.4006 - val_accuracy: 0.8160\n",
            "Epoch 96/100\n",
            "100/100 - 20s - loss: 0.3896 - accuracy: 0.8200 - val_loss: 0.4944 - val_accuracy: 0.7840\n",
            "Epoch 97/100\n",
            "100/100 - 20s - loss: 0.3970 - accuracy: 0.8180 - val_loss: 0.4515 - val_accuracy: 0.7970\n",
            "Epoch 98/100\n",
            "100/100 - 20s - loss: 0.4031 - accuracy: 0.8070 - val_loss: 0.3956 - val_accuracy: 0.8200\n",
            "Epoch 99/100\n",
            "100/100 - 20s - loss: 0.3986 - accuracy: 0.8200 - val_loss: 0.3804 - val_accuracy: 0.8330\n",
            "Epoch 100/100\n",
            "100/100 - 20s - loss: 0.4005 - accuracy: 0.8155 - val_loss: 0.3970 - val_accuracy: 0.8310\n"
          ],
          "name": "stdout"
        }
      ]
    },
    {
      "cell_type": "code",
      "metadata": {
        "colab": {
          "base_uri": "https://localhost:8080/",
          "height": 545
        },
        "id": "8j-TAVwlAcNs",
        "outputId": "45652da3-2b80-4957-90fe-dba0071ce4a2"
      },
      "source": [
        "import matplotlib.pyplot as plt\n",
        "acc = history.history['accuracy']\n",
        "val_acc = history.history['val_accuracy']\n",
        "loss = history.history['loss']\n",
        "val_loss = history.history['val_loss']\n",
        "\n",
        "epochs = range(len(acc))\n",
        "\n",
        "plt.plot(epochs, acc, 'bo', label='Training accuracy')\n",
        "plt.plot(epochs, val_acc, 'b', label='Validation accuracy')\n",
        "plt.title('Training and validation accuracy')\n",
        "\n",
        "plt.figure()\n",
        "\n",
        "plt.plot(epochs, loss, 'bo', label='Training Loss')\n",
        "plt.plot(epochs, val_loss, 'b', label='Validation Loss')\n",
        "plt.title('Training and validation loss')\n",
        "plt.legend()\n",
        "\n",
        "plt.show()"
      ],
      "execution_count": 19,
      "outputs": [
        {
          "output_type": "display_data",
          "data": {
            "image/png": "[encoded data removed]",
            "text/plain": [
              "<Figure size 432x288 with 1 Axes>"
            ]
          },
          "metadata": {
            "tags": [],
            "needs_background": "light"
          }
        },
        {
          "output_type": "display_data",
          "data": {
            "image/png": "[encoded data removed]",
            "text/plain": [
              "<Figure size 432x288 with 1 Axes>"
            ]
          },
          "metadata": {
            "tags": [],
            "needs_background": "light"
          }
        }
      ]
    }
  ]
}